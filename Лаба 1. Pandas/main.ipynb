{
 "cells": [
  {
   "cell_type": "markdown",
   "metadata": {},
   "source": [
    "\n",
    "<h3>1. Выбор и описание данных</h3>\n",
    "<p>Для выполнения лабораторной работы мною был выбран датасет \"Student Alcohol Consumption\"(<a target=\"_blank\">https://www.kaggle.com/datasets/uciml/student-alcohol-consumption</a>). Несмотря на название \"Потребление алкоголя учащимися\", этот датасет представляет собой набор практически всех поддающихся измерению характеристик учеников школы, среди которых лишь два показателя относится к употреблению алкоголя. В действительности исследуется зависимость оценок по математике от значений всевозможных универсальных бытовых показателей для каждого ученика. Среди показателей возраст, пол, тип местности, в которой проживает ученик(бинарный показатель город/сельская местность), наличие интернета дома у ученика, состоит ли ученик в отношениях. Кроме того, значительным преимуществом этого набора данных является то, что он требует исключительно common knowledge для анализа и не содержит никаких специфических показателей из сфер психологии или педагогики. Также в датасете наличиствует количественный показатель \"final grade\", отображающий оценку каждого ученика по математике за финальный тест (в интервале от 0 до 20).</p>\n",
    "<p>Данные взяты из опросе, проведенном среди учеников двух португальских школ в рамках исследования \"P. Cortez and A. Silva. Using Data Mining to Predict Secondary School Student Performance. In A. Brito and J. Teixeira Eds., Proceedings of 5th FUture BUsiness TEChnology Conference (FUBUTEC 2008) pp. 5-12, Porto, Portugal, April, 2008, EUROSIS, ISBN 978-9077381-39-7\"</p>\n",
    "<p>Также мною было принято решение несколько видоизменить данные в датафреме для улучшения качества восприятия информации. В датафрейме присутствует оценка учащихся по математике за первый семестр, второй семестр и за год, мною было принято решение оставить только оценку за год, так как мы не знаем, в какой момент ученики проходили опрос, при условии, что они проходили опрос в начале учебного года, более репрезентативными являются оценки за первый семестр, в противном случае, если ученики проходили опрос, информация из которого представлена в датасете, после завершения экзамена, что более вероятно, так как в датасете отсутствуют ученики, у которых была бы оценка за первый семестре и не было бы оценки за второй семестр, то более репрезентативными являются оценки за второй семестр и за год.</p>"
   ]
  },
  {
   "cell_type": "code",
   "execution_count": 25,
   "metadata": {},
   "outputs": [],
   "source": [
    "import pandas as pd\n",
    "import numpy as np\n",
    "from IPython.display import display, Markdown\n",
    "import random\n",
    "\n",
    "df = pd.read_csv(\"student-mat.csv\")\n",
    "df = df.drop(columns=['G1', 'G2'])"
   ]
  },
  {
   "cell_type": "markdown",
   "metadata": {},
   "source": [
    "<h3>2. Описание показателей</h3>\n",
    "<p>Ниже мы производим итерацию по всем столбцам дата-фрейма. Для количественных столбцов выводятся диапазон значений и среднее значение, а для качественных выводятся возможные значения с количеством значений в дата-фрейме, соответственно первое значение в списке возможных значений является модой данного показателя.</p>"
   ]
  },
  {
   "cell_type": "code",
   "execution_count": 26,
   "metadata": {},
   "outputs": [
    {
     "name": "stdout",
     "output_type": "stream",
     "text": [
      "---------------------\n",
      "Название: school\n",
      "Возможные значения: \n",
      "GP    349\n",
      "MS     46\n",
      "---------------------\n",
      "Название: sex\n",
      "Возможные значения: \n",
      "F    208\n",
      "M    187\n",
      "---------------------\n",
      "Название: age\n",
      "Диапазон: 15-22\n",
      "Среднее значение: 16.696202531645568\n",
      "---------------------\n",
      "Название: address\n",
      "Возможные значения: \n",
      "U    307\n",
      "R     88\n",
      "---------------------\n",
      "Название: famsize\n",
      "Возможные значения: \n",
      "GT3    281\n",
      "LE3    114\n",
      "---------------------\n",
      "Название: Pstatus\n",
      "Возможные значения: \n",
      "T    354\n",
      "A     41\n",
      "---------------------\n",
      "Название: Medu\n",
      "Возможные значения: \n",
      "4    131\n",
      "2    103\n",
      "3     99\n",
      "1     59\n",
      "0      3\n",
      "---------------------\n",
      "Название: Fedu\n",
      "Возможные значения: \n",
      "2    115\n",
      "3    100\n",
      "4     96\n",
      "1     82\n",
      "0      2\n",
      "---------------------\n",
      "Название: Mjob\n",
      "Возможные значения: \n",
      "other       141\n",
      "services    103\n",
      "at_home      59\n",
      "teacher      58\n",
      "health       34\n",
      "---------------------\n",
      "Название: Fjob\n",
      "Возможные значения: \n",
      "other       217\n",
      "services    111\n",
      "teacher      29\n",
      "at_home      20\n",
      "health       18\n",
      "---------------------\n",
      "Название: reason\n",
      "Возможные значения: \n",
      "course        145\n",
      "home          109\n",
      "reputation    105\n",
      "other          36\n",
      "---------------------\n",
      "Название: guardian\n",
      "Возможные значения: \n",
      "mother    273\n",
      "father     90\n",
      "other      32\n",
      "---------------------\n",
      "Название: traveltime\n",
      "Возможные значения: \n",
      "1    257\n",
      "2    107\n",
      "3     23\n",
      "4      8\n",
      "---------------------\n",
      "Название: studytime\n",
      "Возможные значения: \n",
      "2    198\n",
      "1    105\n",
      "3     65\n",
      "4     27\n",
      "---------------------\n",
      "Название: failures\n",
      "Возможные значения: \n",
      "0    312\n",
      "1     50\n",
      "2     17\n",
      "3     16\n",
      "---------------------\n",
      "Название: schoolsup\n",
      "Возможные значения: \n",
      "no     344\n",
      "yes     51\n",
      "---------------------\n",
      "Название: famsup\n",
      "Возможные значения: \n",
      "yes    242\n",
      "no     153\n",
      "---------------------\n",
      "Название: paid\n",
      "Возможные значения: \n",
      "no     214\n",
      "yes    181\n",
      "---------------------\n",
      "Название: activities\n",
      "Возможные значения: \n",
      "yes    201\n",
      "no     194\n",
      "---------------------\n",
      "Название: nursery\n",
      "Возможные значения: \n",
      "yes    314\n",
      "no      81\n",
      "---------------------\n",
      "Название: higher\n",
      "Возможные значения: \n",
      "yes    375\n",
      "no      20\n",
      "---------------------\n",
      "Название: internet\n",
      "Возможные значения: \n",
      "yes    329\n",
      "no      66\n",
      "---------------------\n",
      "Название: romantic\n",
      "Возможные значения: \n",
      "no     263\n",
      "yes    132\n",
      "---------------------\n",
      "Название: famrel\n",
      "Диапазон: 1-5\n",
      "Среднее значение: 3.9443037974683546\n",
      "---------------------\n",
      "Название: freetime\n",
      "Диапазон: 1-5\n",
      "Среднее значение: 3.2354430379746835\n",
      "---------------------\n",
      "Название: goout\n",
      "Диапазон: 1-5\n",
      "Среднее значение: 3.108860759493671\n",
      "---------------------\n",
      "Название: Dalc\n",
      "Диапазон: 1-5\n",
      "Среднее значение: 1.481012658227848\n",
      "---------------------\n",
      "Название: Walc\n",
      "Диапазон: 1-5\n",
      "Среднее значение: 2.2911392405063293\n",
      "---------------------\n",
      "Название: health\n",
      "Диапазон: 1-5\n",
      "Среднее значение: 3.5544303797468353\n",
      "---------------------\n",
      "Название: absences\n",
      "Диапазон: 0-75\n",
      "Среднее значение: 5.708860759493671\n",
      "---------------------\n",
      "Название: G3\n",
      "Диапазон: 0-20\n",
      "Среднее значение: 10.415189873417722\n"
     ]
    }
   ],
   "source": [
    "continuous_columns = ['age', 'famrel', 'freetime', 'goout', 'Dalc', 'Walc', 'health', 'absences', 'G3']\n",
    "discrete_columns = [column for column in df.columns if column not in continuous_columns]\n",
    "for column in df:\n",
    "    column_series = df[column]\n",
    "    print('---------------------')\n",
    "    print(f'Название: {column}')\n",
    "    if column in continuous_columns:\n",
    "        print(f'Диапазон: {column_series.min()}-{column_series.max()}')\n",
    "        print(f'Среднее значение: {column_series.mean()}')\n",
    "    else:\n",
    "        possible_values = '\\n'+'\\n'.join(str(column_series.value_counts()).split(\"\\n\")[1:-1])\n",
    "        print(f'Возможные значения: {possible_values}')\n",
    "    #print(df[column])"
   ]
  },
  {
   "cell_type": "markdown",
   "metadata": {},
   "source": [
    "<h3>3. Визуализация для отдельных показателей</h3>"
   ]
  },
  {
   "cell_type": "code",
   "execution_count": 27,
   "metadata": {},
   "outputs": [
    {
     "data": {
      "image/png": "[encoded data removed]",
      "text/plain": [
       "<Figure size 640x480 with 1 Axes>"
      ]
     },
     "metadata": {},
     "output_type": "display_data"
    }
   ],
   "source": [
    "failures_distribution_plot = df[\"failures\"].value_counts().plot(kind='pie', title=\"Распределение учеников по 'оставлениям на второй год'\", xlabel='', ylabel='')"
   ]
  },
  {
   "cell_type": "code",
   "execution_count": 28,
   "metadata": {},
   "outputs": [
    {
     "data": {
      "image/png": "[encoded data removed]",
      "text/plain": [
       "<Figure size 640x480 with 1 Axes>"
      ]
     },
     "metadata": {},
     "output_type": "display_data"
    }
   ],
   "source": [
    "failures_distribution_plot = df[\"age\"].plot(kind='hist', use_index='age', \n",
    "                                                                title=\"Распределение учеников по возрасту\",\n",
    "                                                                bins=np.arange(15.5, 23),\n",
    "                                                                xlabel='', \n",
    "                                                                ylabel='')"
   ]
  },
  {
   "cell_type": "code",
   "execution_count": 29,
   "metadata": {},
   "outputs": [
    {
     "data": {
      "image/png": "[encoded data removed]",
      "text/plain": [
       "<Figure size 640x480 with 1 Axes>"
      ]
     },
     "metadata": {},
     "output_type": "display_data"
    }
   ],
   "source": [
    "failures_distribution_plot = df[\"guardian\"].value_counts().plot(kind='barh', \n",
    "                                                                title=\"Распределение учеников по законному представителю\",\n",
    "                                                                xlabel='', \n",
    "                                                                ylabel='')"
   ]
  },
  {
   "cell_type": "markdown",
   "metadata": {},
   "source": [
    "<h3>4. Группировка объектов</h3>\n",
    "<h3>Сформируем группы по качественному показателю address, который отражает территориальную принадлежность домашнего адреса ученика. Значения показателя могут быть следующими: U(urban) - городская местность и R(rural) - сельская местность.</h3>"
   ]
  },
  {
   "cell_type": "code",
   "execution_count": 30,
   "metadata": {},
   "outputs": [
    {
     "data": {
      "text/markdown": [
       "<h3>Как мы видим у учеников, проживающих в городской местности, средний балл за экзамен по математике выше на 1.1629034646135619</h3>"
      ],
      "text/plain": [
       "<IPython.core.display.Markdown object>"
      ]
     },
     "metadata": {},
     "output_type": "display_data"
    }
   ],
   "source": [
    "groups_by_address_for_means = df[['address', 'G3']].groupby(['address'])\n",
    "rural_mean_value = groups_by_address_for_means.mean().loc['R'].item()\n",
    "urban_mean_value = groups_by_address_for_means.mean().loc['U'].item()\n",
    "display(Markdown(f'<h3>Как мы видим у учеников, проживающих в городской местности, средний балл за экзамен по математике выше на {urban_mean_value - rural_mean_value}</h3>'))"
   ]
  },
  {
   "cell_type": "code",
   "execution_count": 31,
   "metadata": {},
   "outputs": [
    {
     "data": {
      "text/markdown": [
       "<h3>По абсолютной разнице между средними значениями лидирует показатель G3(результат экзамена по математике), \n",
       "                 разница между средними значениями составляет 1.1629034646135619, при этом по относительным показателям лидирует показатель \n",
       "                 Walc(потребление алкоголя по выходным), где разница составляет 6.251850755108084 от максимального значения \n",
       "                 показателя.</h3>"
      ],
      "text/plain": [
       "<IPython.core.display.Markdown object>"
      ]
     },
     "metadata": {},
     "output_type": "display_data"
    }
   ],
   "source": [
    "groups_by_address = df[continuous_columns+['address']].groupby(by='address')\n",
    "mean_groups_by_address = groups_by_address.mean()\n",
    "\n",
    "rural_data = mean_groups_by_address.loc['R']\n",
    "urban_data = mean_groups_by_address.loc['U']\n",
    "difference = {}\n",
    "for column_name in continuous_columns:\n",
    "    absolute_difference = abs(rural_data[column_name] - urban_data[column_name])\n",
    "    difference[column_name] = [absolute_difference, absolute_difference/df[column_name].max()]\n",
    "\n",
    "abs_max = (0, '')\n",
    "rel_max = (0, '')\n",
    "for name, vals in difference.items():\n",
    "    if vals[0]>abs_max[0]:\n",
    "        abs_max = (vals[0], name)\n",
    "    \n",
    "    if vals[1]>rel_max[0]:\n",
    "        rel_max = (vals[1], name)\n",
    "\n",
    "display(Markdown(f'''<h3>По абсолютной разнице между средними значениями лидирует показатель {abs_max[1]}(результат экзамена по математике), \n",
    "                 разница между средними значениями составляет {abs_max[0]}, при этом по относительным показателям лидирует показатель \n",
    "                 {rel_max[1]}(потребление алкоголя по выходным), где разница составляет {rel_max[0]*100} от максимального значения \n",
    "                 показателя.</h3>'''))\n"
   ]
  },
  {
   "cell_type": "markdown",
   "metadata": {},
   "source": [
    "<h3>Построим boxplot по показателю G3 внутри данных, сгрупированных по территориальной принадлежности домашнего адреса ученика.</h3>"
   ]
  },
  {
   "cell_type": "code",
   "execution_count": 32,
   "metadata": {},
   "outputs": [
    {
     "data": {
      "image/png": "[encoded data removed]",
      "text/plain": [
       "<Figure size 640x480 with 2 Axes>"
      ]
     },
     "metadata": {},
     "output_type": "display_data"
    }
   ],
   "source": [
    "s = groups_by_address.boxplot(column=['G3'])\n"
   ]
  },
  {
   "cell_type": "markdown",
   "metadata": {},
   "source": [
    "<h3>Найдем качественный показатель, который обладает большей разницей по частотам значений для групп по местностной принадлежности адреса ученика</h3>"
   ]
  },
  {
   "cell_type": "code",
   "execution_count": 33,
   "metadata": {},
   "outputs": [
    {
     "name": "stdout",
     "output_type": "stream",
     "text": [
      "{'school': {'R': {'GP': 63, 'MS': 25}, 'U': {'GP': 286, 'MS': 21}}, 'sex': {'R': {'F': 44, 'M': 44}, 'U': {'F': 164, 'M': 143}}, 'famsize': {'R': {'GT3': 68, 'LE3': 20}, 'U': {'GT3': 213, 'LE3': 94}}, 'Pstatus': {'R': {'T': 81, 'A': 7}, 'U': {'T': 273, 'A': 34}}, 'Medu': {'R': {2: 24, 3: 24, 1: 21, 4: 19}, 'U': {4: 112, 2: 79, 3: 75, 1: 38, 0: 3}}, 'Fedu': {'R': {2: 26, 1: 25, 4: 21, 3: 16}, 'U': {2: 89, 3: 84, 4: 75, 1: 57, 0: 2}}, 'Mjob': {'R': {'other': 34, 'at_home': 22, 'services': 18, 'teacher': 11, 'health': 3}, 'U': {'other': 107, 'services': 85, 'teacher': 47, 'at_home': 37, 'health': 31}}, 'Fjob': {'R': {'other': 53, 'services': 23, 'teacher': 6, 'at_home': 4, 'health': 2}, 'U': {'other': 164, 'services': 88, 'teacher': 23, 'at_home': 16, 'health': 16}}, 'reason': {'R': {'course': 36, 'reputation': 29, 'home': 13, 'other': 10}, 'U': {'course': 109, 'home': 96, 'reputation': 76, 'other': 26}}, 'guardian': {'R': {'mother': 67, 'father': 15, 'other': 6}, 'U': {'mother': 206, 'father': 75, 'other': 26}}, 'traveltime': {'R': {1: 35, 2: 34, 3: 14, 4: 5}, 'U': {1: 222, 2: 73, 3: 9, 4: 3}}, 'studytime': {'R': {2: 35, 1: 27, 3: 19, 4: 7}, 'U': {2: 163, 1: 78, 3: 46, 4: 20}}, 'failures': {'R': {0: 63, 1: 15, 2: 6, 3: 4}, 'U': {0: 249, 1: 35, 3: 12, 2: 11}}, 'schoolsup': {'R': {'no': 78, 'yes': 10}, 'U': {'no': 266, 'yes': 41}}, 'famsup': {'R': {'yes': 52, 'no': 36}, 'U': {'yes': 190, 'no': 117}}, 'paid': {'R': {'no': 52, 'yes': 36}, 'U': {'no': 162, 'yes': 145}}, 'activities': {'R': {'yes': 49, 'no': 39}, 'U': {'no': 155, 'yes': 152}}, 'nursery': {'R': {'yes': 66, 'no': 22}, 'U': {'yes': 248, 'no': 59}}, 'higher': {'R': {'yes': 82, 'no': 6}, 'U': {'yes': 293, 'no': 14}}, 'internet': {'R': {'yes': 60, 'no': 28}, 'U': {'yes': 269, 'no': 38}}, 'romantic': {'R': {'no': 59, 'yes': 29}, 'U': {'no': 204, 'yes': 103}}}\n"
     ]
    },
    {
     "data": {
      "text/markdown": [
       "<h3>Таким образом, наибольшая разница по частоте значений наблюдается у показателя traveltime:\n",
       "                 значение 1 составляет на 32.539976310334616% больше в группе, где местностная приндлежность равна U</h3>"
      ],
      "text/plain": [
       "<IPython.core.display.Markdown object>"
      ]
     },
     "metadata": {},
     "output_type": "display_data"
    }
   ],
   "source": [
    "groups_by_address = df[discrete_columns].groupby(by='address')\n",
    "address_sizes = {'R': groups_by_address.size()['R'], 'U': groups_by_address.size()['U']}\n",
    "discrete_values_counts = {}\n",
    "for column_name in discrete_columns:\n",
    "    if column_name!='address':\n",
    "        discrete_values_counts[column_name] = {'R': {}, 'U': {}}\n",
    "        data = groups_by_address[column_name].value_counts().to_dict()\n",
    "        for key, value in data.items():\n",
    "            discrete_values_counts[column_name][key[0]][key[1]] = value\n",
    "print(discrete_values_counts)\n",
    "for column_name, column_values in discrete_values_counts.items():\n",
    "    for address_value, column_values_by_address in column_values.items():\n",
    "        for column_value_name, column_value_count in column_values_by_address.items():\n",
    "            column_values_by_address[column_value_name] = column_value_count/address_sizes[address_value]*100\n",
    "\n",
    "max_difference = (0, '', '', '')\n",
    "for column_name, column_values in discrete_values_counts.items():\n",
    "    possible_column_values = column_values['R'].keys()\n",
    "    for possible_column_value in possible_column_values:\n",
    "        if abs(column_values['R'][possible_column_value] - column_values['U'][possible_column_value])>max_difference[0]:\n",
    "            max_difference = (abs(column_values['R'][possible_column_value] - column_values['U'][possible_column_value]), \n",
    "                              column_name,\n",
    "                              possible_column_value,\n",
    "                              'R' if column_values['R'][possible_column_value]>column_values['U'][possible_column_value] else 'U')\n",
    "\n",
    "display(Markdown(f'''<h3>Таким образом, наибольшая разница по частоте значений наблюдается у показателя {max_difference[1]}:\n",
    "                 значение {max_difference[2]} составляет на {max_difference[0]}% больше в группе, где местностная приндлежность равна {max_difference[3]}</h3>'''))\n",
    "\n"
   ]
  },
  {
   "cell_type": "markdown",
   "metadata": {},
   "source": [
    "<h3>К слову, довольно тривиальный вывод, так как показатель traveltime отражает время, за которое ученик добирается до школы, то есть школьников, которые проживают в городе и добираются в школу менее 15 минут значительно больше, чем школьников, которые живут в сельской местности и добираются до школы менее 15 минут.</h3>"
   ]
  },
  {
   "cell_type": "markdown",
   "metadata": {},
   "source": [
    "<h3>5. Визуализация зависимостей показателей</h3>\n",
    "<h3>В качестве пар показателей, между которыми мы будем выявлять зависимость было решено выбрать следующие:\n",
    "<br>\n",
    "Количественный-количественный: absences-G3(пропуски-оценка за экзамен по математике)</h3>"
   ]
  },
  {
   "cell_type": "code",
   "execution_count": 34,
   "metadata": {},
   "outputs": [
    {
     "data": {
      "image/png": "[encoded data removed]",
      "text/plain": [
       "<Figure size 640x480 with 1 Axes>"
      ]
     },
     "metadata": {},
     "output_type": "display_data"
    }
   ],
   "source": [
    "grade_absences_plot = df.plot(kind='scatter', x='G3', y='absences')"
   ]
  },
  {
   "cell_type": "markdown",
   "metadata": {},
   "source": [
    "<h3>Количественный-качественный: G3-higher(оценка за тест по математике-желание ученика в дальнейшем получать высшее образование)</h3>"
   ]
  },
  {
   "cell_type": "code",
   "execution_count": 35,
   "metadata": {},
   "outputs": [
    {
     "data": {
      "image/png": "[encoded data removed]",
      "text/plain": [
       "<Figure size 640x480 with 1 Axes>"
      ]
     },
     "metadata": {},
     "output_type": "display_data"
    }
   ],
   "source": [
    "grade_higher_plot = df.groupby('higher')['G3'].mean().plot(kind='bar', x='higher', y='G3', ylabel='Exam mean result')"
   ]
  },
  {
   "cell_type": "markdown",
   "metadata": {},
   "source": [
    "<h3>Качественный-качественный: PStatus-guardian(брачное состояние родителей(A-Apart, T-Together)-официальный опекун ребенка)</h3>"
   ]
  },
  {
   "cell_type": "code",
   "execution_count": 36,
   "metadata": {},
   "outputs": [
    {
     "data": {
      "image/png": "[encoded data removed]",
      "text/plain": [
       "<Figure size 640x480 with 1 Axes>"
      ]
     },
     "metadata": {},
     "output_type": "display_data"
    }
   ],
   "source": [
    "p_status_guardian_plot = df.groupby(['Pstatus'])['guardian'].value_counts().plot.bar(x='PStatus', y='guardian', ylabel='Количество')"
   ]
  },
  {
   "cell_type": "markdown",
   "metadata": {},
   "source": [
    "<h3>6. Пропуски данных и аномальные выбросы</h3>\n",
    "<h3>На самом деле аномальные выбросы могут быть только в столбцах G3 и absence, так как остальные показатели либо качественные, либо интервальные. Что касается столбцов G3 и absence, аномальные выбросы внутри них видно на графике зависимости между ними(пункт 5, график 1): можно наблюдать несколько точек с координатами (0, 0). По существу, если ученик набрал 0 баллов за экзамен высока вероятность, что он его просто не сдавал, и так как у нас довольно много данных, мы можем пожертвовать вышеупомянутыми в силу их сомнительности. Посчитаем количество учеников, у которых 0 баллов за экзамен.</h3>"
   ]
  },
  {
   "cell_type": "code",
   "execution_count": 37,
   "metadata": {},
   "outputs": [
    {
     "data": {
      "text/markdown": [
       "<h3>Количество учеников, получивших 0 баллов за экзамен составило 38</h3>"
      ],
      "text/plain": [
       "<IPython.core.display.Markdown object>"
      ]
     },
     "metadata": {},
     "output_type": "display_data"
    }
   ],
   "source": [
    "zero_result_students = (df['G3']==0).sum()\n",
    "display(Markdown(f'''<h3>Количество учеников, получивших 0 баллов за экзамен составило {zero_result_students}</h3>'''))\n"
   ]
  },
  {
   "cell_type": "markdown",
   "metadata": {},
   "source": [
    "<h3>Так как среднее значение баллов за экзамен у нас примерно 10, то при условии, что все ученики, данные о которых присутствуют в нашем датасете, проходили экзамен, нам стоит ожидать примерно схожего или хоть сколь-нибудь сравнимого количества учеников, написавших экзамен на максимальный результат(мы даже дадим данным поблажку и возьмем не максимальный результат, а результат не меньше 19 баллов).</h3>"
   ]
  },
  {
   "cell_type": "code",
   "execution_count": 38,
   "metadata": {},
   "outputs": [
    {
     "data": {
      "text/markdown": [
       "<h3>Количество учеников, получивших не менее 19 баллов за экзамен составило 6</h3>"
      ],
      "text/plain": [
       "<IPython.core.display.Markdown object>"
      ]
     },
     "metadata": {},
     "output_type": "display_data"
    }
   ],
   "source": [
    "max_result_students = (df['G3']>=19).sum()\n",
    "display(Markdown(f'''<h3>Количество учеников, получивших не менее 19 баллов за экзамен составило {max_result_students}</h3>'''))"
   ]
  },
  {
   "cell_type": "markdown",
   "metadata": {},
   "source": [
    "<h3>Итак, наша гипотеза подтвердилась и мы действительно можем абсолютно легитимно избавиться от данных об учениках, которые набрали 0 баллов. Для того, чтобы окончательно удостовериться в том, что нулевые результаты экзамена означают неявку, проанализируем какое значение является минимальным результатом теста, кроме 0. </h3>"
   ]
  },
  {
   "cell_type": "code",
   "execution_count": 39,
   "metadata": {},
   "outputs": [
    {
     "name": "stdout",
     "output_type": "stream",
     "text": [
      "4\n"
     ]
    }
   ],
   "source": [
    "df_cleared = df[df['G3'] > 0]\n",
    "min_without_zero_values = df_cleared['G3'].min()\n",
    "print(min_without_zero_values)"
   ]
  },
  {
   "cell_type": "markdown",
   "metadata": {},
   "source": [
    "<h3>То есть у нас есть 38 результатов со значением ноль и следующий за ними по возрастанию результат - 4. Очевидно, что если бы все нули были результатами учеников, которые действительно проходили тест, то между первыми двумя результатами при упорядочивании по возрастанию не было бы разницы в стандартное отклонение. Ввиду вышеприведенных аргументов считаю обоснованным обозначение нулевых результатов нелигитимными и исключение их из выборки. Ниже будет приведено описание неочищенных и очищенных от нулевых результатов теста.</h3>"
   ]
  },
  {
   "cell_type": "code",
   "execution_count": 40,
   "metadata": {},
   "outputs": [
    {
     "name": "stdout",
     "output_type": "stream",
     "text": [
      "count    395.000000\n",
      "mean      10.415190\n",
      "std        4.581443\n",
      "min        0.000000\n",
      "25%        8.000000\n",
      "50%       11.000000\n",
      "75%       14.000000\n",
      "max       20.000000\n",
      "Name: G3, dtype: float64\n"
     ]
    },
    {
     "data": {
      "text/plain": [
       "count    357.000000\n",
       "mean      11.523810\n",
       "std        3.227797\n",
       "min        4.000000\n",
       "25%        9.000000\n",
       "50%       11.000000\n",
       "75%       14.000000\n",
       "max       20.000000\n",
       "Name: G3, dtype: float64"
      ]
     },
     "execution_count": 40,
     "metadata": {},
     "output_type": "execute_result"
    }
   ],
   "source": [
    "print(df['G3'].describe())\n",
    "df_cleared['G3'].describe()"
   ]
  },
  {
   "cell_type": "markdown",
   "metadata": {},
   "source": [
    "<h3>К моему глубочайшему сожалению пропусков в данных нет, потому что я сначала сделал 5 пунктов, а потом прочитал шестой. Таким образом, в предыдущих пунктах работа осуществлялась с очищенными данными, что я считаю никак не влияет на результат выполнения задания, так как прежде чем выполнять любое из заданий пунктов 1-5 данные должны быть очищены. В качестве решения данной проблемы предлагаю создать в некоторых данных пропуски и затем устранить их.\n",
    "Семантически под отсутствие некоторых значений подходят колонка, отражающая результат экзамена по математике(неявка), а также колонки, которые содержат информацию из опроса(по типу famrel, freetime, romantic, goout и т.д.).\n",
    "Предлагаю заполнить неизвестными значениями колонки G3 и romantic, так как они семантически наиболее подходящие(многие ученики школы могут не хотеть раскрывать, состоят ли они в романтичеких отношениях🥺🥺🥺).\n",
    "Заполнять незаданными значениями будем случайным образом: генерируем случайное число 0..1, если результат <=N, то изменяем значение на N/A.Для колонки romantic значение N будет 0.1, а для колонки G3 - 0.03</h3>"
   ]
  },
  {
   "cell_type": "code",
   "execution_count": 41,
   "metadata": {},
   "outputs": [],
   "source": [
    "for index, row in df_cleared.iterrows():\n",
    "    rand_val_romantic = random.random()\n",
    "    if rand_val_romantic<=0.1:\n",
    "        df_cleared.loc[index, 'romantic'] = pd.NA\n",
    "    \n",
    "    rand_val_g3 = random.random()\n",
    "    if rand_val_g3<=0.03:\n",
    "        df_cleared.loc[index, 'G3'] = pd.NA"
   ]
  },
  {
   "cell_type": "markdown",
   "metadata": {},
   "source": [
    "<h3>Теперь посчитаем количество пропусков для каждого столбца таблицы</h3>"
   ]
  },
  {
   "cell_type": "code",
   "execution_count": 42,
   "metadata": {},
   "outputs": [
    {
     "data": {
      "text/markdown": [
       "<p>school: 0==0.0%</p>"
      ],
      "text/plain": [
       "<IPython.core.display.Markdown object>"
      ]
     },
     "metadata": {},
     "output_type": "display_data"
    },
    {
     "data": {
      "text/markdown": [
       "<p>sex: 0==0.0%</p>"
      ],
      "text/plain": [
       "<IPython.core.display.Markdown object>"
      ]
     },
     "metadata": {},
     "output_type": "display_data"
    },
    {
     "data": {
      "text/markdown": [
       "<p>age: 0==0.0%</p>"
      ],
      "text/plain": [
       "<IPython.core.display.Markdown object>"
      ]
     },
     "metadata": {},
     "output_type": "display_data"
    },
    {
     "data": {
      "text/markdown": [
       "<p>address: 0==0.0%</p>"
      ],
      "text/plain": [
       "<IPython.core.display.Markdown object>"
      ]
     },
     "metadata": {},
     "output_type": "display_data"
    },
    {
     "data": {
      "text/markdown": [
       "<p>famsize: 0==0.0%</p>"
      ],
      "text/plain": [
       "<IPython.core.display.Markdown object>"
      ]
     },
     "metadata": {},
     "output_type": "display_data"
    },
    {
     "data": {
      "text/markdown": [
       "<p>Pstatus: 0==0.0%</p>"
      ],
      "text/plain": [
       "<IPython.core.display.Markdown object>"
      ]
     },
     "metadata": {},
     "output_type": "display_data"
    },
    {
     "data": {
      "text/markdown": [
       "<p>Medu: 0==0.0%</p>"
      ],
      "text/plain": [
       "<IPython.core.display.Markdown object>"
      ]
     },
     "metadata": {},
     "output_type": "display_data"
    },
    {
     "data": {
      "text/markdown": [
       "<p>Fedu: 0==0.0%</p>"
      ],
      "text/plain": [
       "<IPython.core.display.Markdown object>"
      ]
     },
     "metadata": {},
     "output_type": "display_data"
    },
    {
     "data": {
      "text/markdown": [
       "<p>Mjob: 0==0.0%</p>"
      ],
      "text/plain": [
       "<IPython.core.display.Markdown object>"
      ]
     },
     "metadata": {},
     "output_type": "display_data"
    },
    {
     "data": {
      "text/markdown": [
       "<p>Fjob: 0==0.0%</p>"
      ],
      "text/plain": [
       "<IPython.core.display.Markdown object>"
      ]
     },
     "metadata": {},
     "output_type": "display_data"
    },
    {
     "data": {
      "text/markdown": [
       "<p>reason: 0==0.0%</p>"
      ],
      "text/plain": [
       "<IPython.core.display.Markdown object>"
      ]
     },
     "metadata": {},
     "output_type": "display_data"
    },
    {
     "data": {
      "text/markdown": [
       "<p>guardian: 0==0.0%</p>"
      ],
      "text/plain": [
       "<IPython.core.display.Markdown object>"
      ]
     },
     "metadata": {},
     "output_type": "display_data"
    },
    {
     "data": {
      "text/markdown": [
       "<p>traveltime: 0==0.0%</p>"
      ],
      "text/plain": [
       "<IPython.core.display.Markdown object>"
      ]
     },
     "metadata": {},
     "output_type": "display_data"
    },
    {
     "data": {
      "text/markdown": [
       "<p>studytime: 0==0.0%</p>"
      ],
      "text/plain": [
       "<IPython.core.display.Markdown object>"
      ]
     },
     "metadata": {},
     "output_type": "display_data"
    },
    {
     "data": {
      "text/markdown": [
       "<p>failures: 0==0.0%</p>"
      ],
      "text/plain": [
       "<IPython.core.display.Markdown object>"
      ]
     },
     "metadata": {},
     "output_type": "display_data"
    },
    {
     "data": {
      "text/markdown": [
       "<p>schoolsup: 0==0.0%</p>"
      ],
      "text/plain": [
       "<IPython.core.display.Markdown object>"
      ]
     },
     "metadata": {},
     "output_type": "display_data"
    },
    {
     "data": {
      "text/markdown": [
       "<p>famsup: 0==0.0%</p>"
      ],
      "text/plain": [
       "<IPython.core.display.Markdown object>"
      ]
     },
     "metadata": {},
     "output_type": "display_data"
    },
    {
     "data": {
      "text/markdown": [
       "<p>paid: 0==0.0%</p>"
      ],
      "text/plain": [
       "<IPython.core.display.Markdown object>"
      ]
     },
     "metadata": {},
     "output_type": "display_data"
    },
    {
     "data": {
      "text/markdown": [
       "<p>activities: 0==0.0%</p>"
      ],
      "text/plain": [
       "<IPython.core.display.Markdown object>"
      ]
     },
     "metadata": {},
     "output_type": "display_data"
    },
    {
     "data": {
      "text/markdown": [
       "<p>nursery: 0==0.0%</p>"
      ],
      "text/plain": [
       "<IPython.core.display.Markdown object>"
      ]
     },
     "metadata": {},
     "output_type": "display_data"
    },
    {
     "data": {
      "text/markdown": [
       "<p>higher: 0==0.0%</p>"
      ],
      "text/plain": [
       "<IPython.core.display.Markdown object>"
      ]
     },
     "metadata": {},
     "output_type": "display_data"
    },
    {
     "data": {
      "text/markdown": [
       "<p>internet: 0==0.0%</p>"
      ],
      "text/plain": [
       "<IPython.core.display.Markdown object>"
      ]
     },
     "metadata": {},
     "output_type": "display_data"
    },
    {
     "data": {
      "text/markdown": [
       "<p>romantic: 28==0.0784313725490196%</p>"
      ],
      "text/plain": [
       "<IPython.core.display.Markdown object>"
      ]
     },
     "metadata": {},
     "output_type": "display_data"
    },
    {
     "data": {
      "text/markdown": [
       "<p>famrel: 0==0.0%</p>"
      ],
      "text/plain": [
       "<IPython.core.display.Markdown object>"
      ]
     },
     "metadata": {},
     "output_type": "display_data"
    },
    {
     "data": {
      "text/markdown": [
       "<p>freetime: 0==0.0%</p>"
      ],
      "text/plain": [
       "<IPython.core.display.Markdown object>"
      ]
     },
     "metadata": {},
     "output_type": "display_data"
    },
    {
     "data": {
      "text/markdown": [
       "<p>goout: 0==0.0%</p>"
      ],
      "text/plain": [
       "<IPython.core.display.Markdown object>"
      ]
     },
     "metadata": {},
     "output_type": "display_data"
    },
    {
     "data": {
      "text/markdown": [
       "<p>Dalc: 0==0.0%</p>"
      ],
      "text/plain": [
       "<IPython.core.display.Markdown object>"
      ]
     },
     "metadata": {},
     "output_type": "display_data"
    },
    {
     "data": {
      "text/markdown": [
       "<p>Walc: 0==0.0%</p>"
      ],
      "text/plain": [
       "<IPython.core.display.Markdown object>"
      ]
     },
     "metadata": {},
     "output_type": "display_data"
    },
    {
     "data": {
      "text/markdown": [
       "<p>health: 0==0.0%</p>"
      ],
      "text/plain": [
       "<IPython.core.display.Markdown object>"
      ]
     },
     "metadata": {},
     "output_type": "display_data"
    },
    {
     "data": {
      "text/markdown": [
       "<p>absences: 0==0.0%</p>"
      ],
      "text/plain": [
       "<IPython.core.display.Markdown object>"
      ]
     },
     "metadata": {},
     "output_type": "display_data"
    },
    {
     "data": {
      "text/markdown": [
       "<p>G3: 8==0.022408963585434174%</p>"
      ],
      "text/plain": [
       "<IPython.core.display.Markdown object>"
      ]
     },
     "metadata": {},
     "output_type": "display_data"
    }
   ],
   "source": [
    "for column_name in df_cleared.columns:\n",
    "    na_count = df_cleared[column_name].isna().sum()\n",
    "    na_percentage = na_count/(len(df_cleared.index))\n",
    "    display(Markdown(f'<p>{column_name}: {na_count}=={na_percentage}%</p>'))"
   ]
  },
  {
   "cell_type": "markdown",
   "metadata": {},
   "source": [
    "<h3>Чтобы устранить пропуски из таблицы мы используем два подхода к пропускам в двух колонках. Строки с пропусками в столбце с результатами экзамена по математике считаю обоснованным удалить, так как по сути мы не имеем данных, с помощью которых мы можем установить ккакие либо закономерности или законы.\n",
    "Что же касается строк с пропусками в столбце romatic, чтобы использовать наиболее корректную тактику устранения пропусков, мы рассмотрим распределение значений в этом стобце. </h3>"
   ]
  },
  {
   "cell_type": "code",
   "execution_count": 43,
   "metadata": {},
   "outputs": [
    {
     "data": {
      "text/markdown": [
       "<p>Описание столбца G3 после удаления строк, в которых значение этого столбца не задано</p>"
      ],
      "text/plain": [
       "<IPython.core.display.Markdown object>"
      ]
     },
     "metadata": {},
     "output_type": "display_data"
    },
    {
     "data": {
      "text/plain": [
       "count    349.000000\n",
       "mean      11.515759\n",
       "std        3.219536\n",
       "min        4.000000\n",
       "25%        9.000000\n",
       "50%       11.000000\n",
       "75%       14.000000\n",
       "max       20.000000\n",
       "Name: G3, dtype: float64"
      ]
     },
     "execution_count": 43,
     "metadata": {},
     "output_type": "execute_result"
    }
   ],
   "source": [
    "df_cleared_from_na = df_cleared[df_cleared['G3']!=pd.NA]\n",
    "display(Markdown('<p>Описание столбца G3 после удаления строк, в которых значение этого столбца не задано</p>'))\n",
    "df_cleared_from_na['G3'].describe()"
   ]
  },
  {
   "cell_type": "code",
   "execution_count": 44,
   "metadata": {},
   "outputs": [
    {
     "data": {
      "text/plain": [
       "romantic\n",
       "no      223\n",
       "yes     106\n",
       "<NA>     28\n",
       "Name: count, dtype: int64"
      ]
     },
     "execution_count": 44,
     "metadata": {},
     "output_type": "execute_result"
    }
   ],
   "source": [
    "df_cleared_from_na['romantic'].value_counts(dropna=False)"
   ]
  },
  {
   "cell_type": "markdown",
   "metadata": {},
   "source": [
    "<h3>Мы убедились, что подавляющее большинство учеников не имеют романтических отношений, поэтому адекватной мерой было бы заполнить ячейки в которых нет значения значением 'no', но у нас в таблице есть столбец age, который показывает возраст ученика и интуитивно напрашивается связь между возрастом и наличием романтических отношений. То есть мы можем устранять пропуски не просто меняя N/A на \"no\", но делать это в зависимости от доминирующего значения в возврастной группе ученика. Сгруппируем значения датасета по возрасту и посмотрим на доминирующий статус романтических отношений внутри групп.</h3>"
   ]
  },
  {
   "cell_type": "code",
   "execution_count": 45,
   "metadata": {},
   "outputs": [],
   "source": [
    "romantic_by_age = df_cleared_from_na[['age', 'romantic']].groupby('age')\n"
   ]
  },
  {
   "cell_type": "code",
   "execution_count": 46,
   "metadata": {},
   "outputs": [
    {
     "name": "stdout",
     "output_type": "stream",
     "text": [
      "Возраст 15: доминирующее значение no составляет 81.15942028985508% из 69\n",
      "Возраст 16: доминирующее значение no составляет 72.41379310344827% из 87\n",
      "Возраст 17: доминирующее значение no составляет 65.51724137931035% из 87\n",
      "Возраст 18: доминирующее значение no составляет 56.25% из 64\n",
      "Возраст 19: доминирующее значение yes составляет 52.94117647058824% из 17\n",
      "Возраст 20: доминирующее значение no составляет 66.66666666666666% из 3\n",
      "Возраст 21: доминирующее значение no составляет 100.0% из 1\n",
      "Возраст 22: доминирующее значение yes составляет 100.0% из 1\n"
     ]
    }
   ],
   "source": [
    "for index, row in romantic_by_age.describe().iterrows():\n",
    "    print(f'''Возраст {index}: доминирующее значение {row.romantic['top']} составляет {(row.romantic['freq']/row.romantic['count'])*100}% из {row.romantic['count']}''')"
   ]
  },
  {
   "cell_type": "markdown",
   "metadata": {},
   "source": [
    "<h3>Как мы видим, у нормальных людей(которые не учатся в школе в 19 и больше лет), действительно присутствует тенденция к увеличению доли состоящих в отношениях(~10% в год). И хотя практически у всех групп учеников все равно доминирующее значение 'no', имеет смысл заменять N/A в столбце romantic именно на доминирующее значение в возрастной группе, нежели на просто 0, так как у группы 18-летних лишь 53% не состоят в отношениях, то есть при дополнениии данного датасета новыми учениками вполне может сложиться ситуация, когда у 18-летних учеников большинство будет в отношениях(под дополнением датасета я имею в виду проведение такого же исследования с такими же столбцами, но большим колическтвом респондентов). </h3>"
   ]
  },
  {
   "cell_type": "code",
   "execution_count": 47,
   "metadata": {},
   "outputs": [],
   "source": [
    "for index, row in df_cleared_from_na.iterrows():\n",
    "    if pd.isna(row['romantic']):\n",
    "        #print(romantic_by_age.describe().loc[row['age'].top])\n",
    "        df_cleared_from_na.loc[index, 'romantic'] = romantic_by_age.describe().loc[row['age']].romantic.top"
   ]
  },
  {
   "cell_type": "code",
   "execution_count": 48,
   "metadata": {},
   "outputs": [
    {
     "data": {
      "text/plain": [
       "romantic\n",
       "no     249\n",
       "yes    108\n",
       "Name: count, dtype: int64"
      ]
     },
     "execution_count": 48,
     "metadata": {},
     "output_type": "execute_result"
    }
   ],
   "source": [
    "df_cleared_from_na.romantic.value_counts(dropna=False)"
   ]
  }
 ],
 "metadata": {
  "kernelspec": {
   "display_name": "blackjack",
   "language": "python",
   "name": "python3"
  },
  "language_info": {
   "codemirror_mode": {
    "name": "ipython",
    "version": 3
   },
   "file_extension": ".py",
   "mimetype": "text/x-python",
   "name": "python",
   "nbconvert_exporter": "python",
   "pygments_lexer": "ipython3",
   "version": "3.11.4"
  },
  "orig_nbformat": 4
 },
 "nbformat": 4,
 "nbformat_minor": 2
}
